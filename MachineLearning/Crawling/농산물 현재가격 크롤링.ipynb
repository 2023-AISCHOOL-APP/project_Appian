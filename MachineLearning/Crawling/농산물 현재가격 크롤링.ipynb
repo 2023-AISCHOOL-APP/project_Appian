{
 "cells": [
  {
   "cell_type": "code",
   "execution_count": 1,
   "id": "cb406e63",
   "metadata": {},
   "outputs": [
    {
     "ename": "IndexError",
     "evalue": "list index out of range",
     "output_type": "error",
     "traceback": [
      "\u001b[0;31m---------------------------------------------------------------------------\u001b[0m",
      "\u001b[0;31mIndexError\u001b[0m                                Traceback (most recent call last)",
      "Cell \u001b[0;32mIn[1], line 8\u001b[0m\n\u001b[1;32m      5\u001b[0m res \u001b[38;5;241m=\u001b[39m req\u001b[38;5;241m.\u001b[39mget(url)\n\u001b[1;32m      6\u001b[0m soup \u001b[38;5;241m=\u001b[39m bs(res\u001b[38;5;241m.\u001b[39mtext, \u001b[38;5;124m'\u001b[39m\u001b[38;5;124mlxml\u001b[39m\u001b[38;5;124m'\u001b[39m)\n\u001b[0;32m----> 8\u001b[0m gamja \u001b[38;5;241m=\u001b[39m \u001b[43msoup\u001b[49m\u001b[38;5;241;43m.\u001b[39;49m\u001b[43mselect\u001b[49m\u001b[43m(\u001b[49m\u001b[38;5;124;43m'\u001b[39;49m\u001b[38;5;124;43m#tab_tbl01 > table > tbody > tr:nth-child(11) > td:nth-child(3)\u001b[39;49m\u001b[38;5;124;43m'\u001b[39;49m\u001b[43m)\u001b[49m\u001b[43m[\u001b[49m\u001b[38;5;241;43m0\u001b[39;49m\u001b[43m]\u001b[49m\u001b[38;5;241m.\u001b[39mtext \u001b[38;5;66;03m#20kg\u001b[39;00m\n\u001b[1;32m      9\u001b[0m gamja \u001b[38;5;241m=\u001b[39m gamja\u001b[38;5;241m.\u001b[39mreplace(\u001b[38;5;124m'\u001b[39m\u001b[38;5;124m,\u001b[39m\u001b[38;5;124m'\u001b[39m,\u001b[38;5;124m'\u001b[39m\u001b[38;5;124m'\u001b[39m)\n\u001b[1;32m     10\u001b[0m gamja \u001b[38;5;241m=\u001b[39m \u001b[38;5;28mint\u001b[39m(gamja)\n",
      "\u001b[0;31mIndexError\u001b[0m: list index out of range"
     ]
    }
   ],
   "source": [
    "import requests as req\n",
    "from bs4 import BeautifulSoup as bs\n",
    "\n",
    "url = 'https://www.kamis.or.kr/customer/main/main.do'\n",
    "res = req.get(url)\n",
    "soup = bs(res.text, 'lxml')\n",
    "\n",
    "gamja = soup.select('#tab_tbl01 > table > tbody > tr:nth-child(11) > td:nth-child(3)')[0].text #20kg\n",
    "gamja = gamja.replace(',','')\n",
    "gamja = int(gamja)\n",
    "today_gamja = gamja//20\n",
    "\n",
    "yangbaechoo = soup.select('#tab_tbl02 > table > tbody > tr:nth-child(2) > td:nth-child(3)')[0].text #8kg\n",
    "yangbaechoo = yangbaechoo.replace(',','')\n",
    "yangbaechoo = int(yangbaechoo)\n",
    "today_yangbaechoo = yangbaechoo//8\n",
    "\n",
    "danggeun = soup.select('#tab_tbl02 > table > tbody > tr:nth-child(17) > td:nth-child(3)')[0].text #20kg\n",
    "danggeun = danggeun.replace(',','')\n",
    "danggeun = int(danggeun)\n",
    "today_danggeun = danggeun//20\n",
    "\n",
    "yangpa = soup.select('#tab_tbl02 > table > tbody > tr:nth-child(30) > td:nth-child(3)')[0].text #15kg\n",
    "yangpa = yangpa.replace(',','')\n",
    "yangpa = int(yangpa)\n",
    "today_yangpa = yangpa//15\n",
    "\n",
    "daepa = soup.select('#tab_tbl02 > table > tbody > tr:nth-child(31) > td:nth-child(3)')[0].text #1kg\n",
    "daepa = daepa.replace(',','')\n",
    "today_daepa = int(daepa)\n",
    "\n",
    "print(gamja, yangbaechoo, danggeun, yangpa, daepa)\n",
    "print(today_gamja, today_yangbaechoo, today_danggeun, today_yangpa, today_daepa)"
   ]
  },
  {
   "cell_type": "code",
   "execution_count": null,
   "id": "d226fd37",
   "metadata": {},
   "outputs": [],
   "source": []
  }
 ],
 "metadata": {
  "kernelspec": {
   "display_name": "Python 3 (ipykernel)",
   "language": "python",
   "name": "python3"
  },
  "language_info": {
   "codemirror_mode": {
    "name": "ipython",
    "version": 3
   },
   "file_extension": ".py",
   "mimetype": "text/x-python",
   "name": "python",
   "nbconvert_exporter": "python",
   "pygments_lexer": "ipython3",
   "version": "3.8.17"
  }
 },
 "nbformat": 4,
 "nbformat_minor": 5
}

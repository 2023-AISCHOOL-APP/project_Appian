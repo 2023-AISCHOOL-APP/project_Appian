{
 "cells": [
  {
   "cell_type": "code",
   "execution_count": 143,
   "id": "c29a171f",
   "metadata": {},
   "outputs": [],
   "source": [
    "import requests as req\n",
    "from bs4 import BeautifulSoup as bs\n",
    "url = 'https://www.kamis.or.kr/customer/main/main.do'\n",
    "res = req.get(url)\n",
    "soup = bs(res.text, 'lxml')\n",
    "gamja =soup.select('#tab_tbl01 > table > tbody > tr:nth-child(11) > td:nth-child(5)')\n",
    "gamja2 = gamja[0].text\n",
    "gamja_text = gamja2.strip().replace(',', '')\n",
    "gamja_price = int(gamja_text)"
   ]
  },
  {
   "cell_type": "code",
   "execution_count": 144,
   "id": "130f014f",
   "metadata": {},
   "outputs": [
    {
     "data": {
      "text/plain": [
       "39700"
      ]
     },
     "execution_count": 144,
     "metadata": {},
     "output_type": "execute_result"
    }
   ],
   "source": [
    "gamja_price"
   ]
  },
  {
   "cell_type": "code",
   "execution_count": 5,
   "id": "d1017623",
   "metadata": {},
   "outputs": [],
   "source": []
  },
  {
   "cell_type": "code",
   "execution_count": 151,
   "id": "a89ae23e",
   "metadata": {},
   "outputs": [
    {
     "name": "stdout",
     "output_type": "stream",
     "text": [
      "전날 날짜: 2023-08-06\n",
      "년: 2023\n",
      "월: 8\n",
      "일: 6\n"
     ]
    }
   ],
   "source": [
    "from datetime import datetime, timedelta\n",
    "\n",
    "# 전날 날짜 계산\n",
    "yesterday = datetime.now() - timedelta(days=1)\n",
    "yesterday_formatted = yesterday.strftime('%Y-%m-%d')\n",
    "\n",
    "# 전날 날짜에서 년, 월, 일 분리\n",
    "year = yesterday.year\n",
    "month = yesterday.month\n",
    "day = yesterday.day\n",
    "\n",
    "print('전날 날짜:', yesterday_formatted)\n",
    "print('년:', year)\n",
    "print('월:', month)\n",
    "print('일:', day)"
   ]
  },
  {
   "cell_type": "code",
   "execution_count": 111,
   "id": "77df028f",
   "metadata": {},
   "outputs": [],
   "source": [
    "import pandas as pd"
   ]
  },
  {
   "cell_type": "code",
   "execution_count": 112,
   "id": "778a4772",
   "metadata": {},
   "outputs": [
    {
     "data": {
      "text/html": [
       "<div>\n",
       "<style scoped>\n",
       "    .dataframe tbody tr th:only-of-type {\n",
       "        vertical-align: middle;\n",
       "    }\n",
       "\n",
       "    .dataframe tbody tr th {\n",
       "        vertical-align: top;\n",
       "    }\n",
       "\n",
       "    .dataframe thead th {\n",
       "        text-align: right;\n",
       "    }\n",
       "</style>\n",
       "<table border=\"1\" class=\"dataframe\">\n",
       "  <thead>\n",
       "    <tr style=\"text-align: right;\">\n",
       "      <th></th>\n",
       "      <th>날짜</th>\n",
       "      <th>최고기온</th>\n",
       "      <th>최저기온</th>\n",
       "      <th>월</th>\n",
       "      <th>일</th>\n",
       "      <th>연도</th>\n",
       "      <th>가격</th>\n",
       "    </tr>\n",
       "  </thead>\n",
       "  <tbody>\n",
       "    <tr>\n",
       "      <th>0</th>\n",
       "      <td>2011-01-03</td>\n",
       "      <td>6.2</td>\n",
       "      <td>-16.9</td>\n",
       "      <td>1</td>\n",
       "      <td>3</td>\n",
       "      <td>2011</td>\n",
       "      <td>1520.0</td>\n",
       "    </tr>\n",
       "    <tr>\n",
       "      <th>1</th>\n",
       "      <td>2011-01-04</td>\n",
       "      <td>3.2</td>\n",
       "      <td>-14.4</td>\n",
       "      <td>1</td>\n",
       "      <td>4</td>\n",
       "      <td>2011</td>\n",
       "      <td>1520.0</td>\n",
       "    </tr>\n",
       "    <tr>\n",
       "      <th>2</th>\n",
       "      <td>2011-01-05</td>\n",
       "      <td>2.9</td>\n",
       "      <td>-12.5</td>\n",
       "      <td>1</td>\n",
       "      <td>5</td>\n",
       "      <td>2011</td>\n",
       "      <td>1620.0</td>\n",
       "    </tr>\n",
       "    <tr>\n",
       "      <th>3</th>\n",
       "      <td>2011-01-06</td>\n",
       "      <td>-0.3</td>\n",
       "      <td>-18.1</td>\n",
       "      <td>1</td>\n",
       "      <td>6</td>\n",
       "      <td>2011</td>\n",
       "      <td>1690.0</td>\n",
       "    </tr>\n",
       "    <tr>\n",
       "      <th>4</th>\n",
       "      <td>2011-01-07</td>\n",
       "      <td>0.0</td>\n",
       "      <td>-20.7</td>\n",
       "      <td>1</td>\n",
       "      <td>7</td>\n",
       "      <td>2011</td>\n",
       "      <td>1710.0</td>\n",
       "    </tr>\n",
       "    <tr>\n",
       "      <th>...</th>\n",
       "      <td>...</td>\n",
       "      <td>...</td>\n",
       "      <td>...</td>\n",
       "      <td>...</td>\n",
       "      <td>...</td>\n",
       "      <td>...</td>\n",
       "      <td>...</td>\n",
       "    </tr>\n",
       "    <tr>\n",
       "      <th>2950</th>\n",
       "      <td>2022-12-26</td>\n",
       "      <td>-0.5</td>\n",
       "      <td>-16.9</td>\n",
       "      <td>12</td>\n",
       "      <td>26</td>\n",
       "      <td>2022</td>\n",
       "      <td>2236.0</td>\n",
       "    </tr>\n",
       "    <tr>\n",
       "      <th>2951</th>\n",
       "      <td>2022-12-27</td>\n",
       "      <td>1.0</td>\n",
       "      <td>-16.8</td>\n",
       "      <td>12</td>\n",
       "      <td>27</td>\n",
       "      <td>2022</td>\n",
       "      <td>2212.0</td>\n",
       "    </tr>\n",
       "    <tr>\n",
       "      <th>2952</th>\n",
       "      <td>2022-12-28</td>\n",
       "      <td>0.4</td>\n",
       "      <td>-14.0</td>\n",
       "      <td>12</td>\n",
       "      <td>28</td>\n",
       "      <td>2022</td>\n",
       "      <td>2153.0</td>\n",
       "    </tr>\n",
       "    <tr>\n",
       "      <th>2953</th>\n",
       "      <td>2022-12-29</td>\n",
       "      <td>0.0</td>\n",
       "      <td>-16.2</td>\n",
       "      <td>12</td>\n",
       "      <td>29</td>\n",
       "      <td>2022</td>\n",
       "      <td>2163.0</td>\n",
       "    </tr>\n",
       "    <tr>\n",
       "      <th>2954</th>\n",
       "      <td>2022-12-30</td>\n",
       "      <td>2.3</td>\n",
       "      <td>-11.7</td>\n",
       "      <td>12</td>\n",
       "      <td>30</td>\n",
       "      <td>2022</td>\n",
       "      <td>2163.0</td>\n",
       "    </tr>\n",
       "  </tbody>\n",
       "</table>\n",
       "<p>2955 rows × 7 columns</p>\n",
       "</div>"
      ],
      "text/plain": [
       "              날짜  최고기온  최저기온   월   일    연도      가격\n",
       "0     2011-01-03   6.2 -16.9   1   3  2011  1520.0\n",
       "1     2011-01-04   3.2 -14.4   1   4  2011  1520.0\n",
       "2     2011-01-05   2.9 -12.5   1   5  2011  1620.0\n",
       "3     2011-01-06  -0.3 -18.1   1   6  2011  1690.0\n",
       "4     2011-01-07   0.0 -20.7   1   7  2011  1710.0\n",
       "...          ...   ...   ...  ..  ..   ...     ...\n",
       "2950  2022-12-26  -0.5 -16.9  12  26  2022  2236.0\n",
       "2951  2022-12-27   1.0 -16.8  12  27  2022  2212.0\n",
       "2952  2022-12-28   0.4 -14.0  12  28  2022  2153.0\n",
       "2953  2022-12-29   0.0 -16.2  12  29  2022  2163.0\n",
       "2954  2022-12-30   2.3 -11.7  12  30  2022  2163.0\n",
       "\n",
       "[2955 rows x 7 columns]"
      ]
     },
     "execution_count": 112,
     "metadata": {},
     "output_type": "execute_result"
    }
   ],
   "source": [
    "pd.read_csv('../감자.csv')"
   ]
  },
  {
   "cell_type": "code",
   "execution_count": 114,
   "id": "d8a32b05",
   "metadata": {},
   "outputs": [],
   "source": []
  },
  {
   "cell_type": "code",
   "execution_count": 115,
   "id": "5f8d364e",
   "metadata": {},
   "outputs": [],
   "source": []
  },
  {
   "cell_type": "code",
   "execution_count": 116,
   "id": "95042b58",
   "metadata": {},
   "outputs": [
    {
     "data": {
      "text/plain": [
       "datetime.datetime(2023, 8, 7, 16, 50, 51, 652356)"
      ]
     },
     "execution_count": 116,
     "metadata": {},
     "output_type": "execute_result"
    }
   ],
   "source": []
  },
  {
   "cell_type": "code",
   "execution_count": 117,
   "id": "2bb64460",
   "metadata": {},
   "outputs": [],
   "source": []
  },
  {
   "cell_type": "code",
   "execution_count": 118,
   "id": "6dfc0705",
   "metadata": {},
   "outputs": [],
   "source": []
  },
  {
   "cell_type": "code",
   "execution_count": 119,
   "id": "1afae4c6",
   "metadata": {},
   "outputs": [
    {
     "name": "stdout",
     "output_type": "stream",
     "text": [
      "전날 날짜: 2023-08-06\n"
     ]
    }
   ],
   "source": []
  },
  {
   "cell_type": "code",
   "execution_count": null,
   "id": "0f6923d3",
   "metadata": {},
   "outputs": [],
   "source": []
  },
  {
   "cell_type": "code",
   "execution_count": 126,
   "id": "402d77fa",
   "metadata": {},
   "outputs": [],
   "source": [
    "import cx_Oracle"
   ]
  },
  {
   "cell_type": "code",
   "execution_count": 128,
   "id": "7fc87be6",
   "metadata": {},
   "outputs": [],
   "source": [
    "cx_Oracle.init_oracle_client('instantclient_11_2')"
   ]
  },
  {
   "cell_type": "code",
   "execution_count": 141,
   "id": "e6c36d06",
   "metadata": {},
   "outputs": [],
   "source": [
    "\n",
    "# 1. Connection 생성\n",
    "conn = cx_Oracle.connect('Insa4_APP_hacksim_3', 'aishcool3', 'project-db-stu3.smhrd.com:1524/xe')\n",
    "\n",
    "# 2. Cursor 생성\n",
    "curs = conn.cursor()\n",
    "\n",
    "# 3. SQL 전송\n",
    "yesterday_formatted = \"2023-08-07\"\n",
    "sql = \"insert into member_cm (name, age, tel) values (:1, :2, :3)\"\n",
    "values = (yesterday_formatted, '20', 'test')\n",
    "\n",
    "curs.execute(sql, values)\n",
    "\n",
    "conn.commit()\n",
    "\n",
    "curs.close()\n",
    "conn.close()"
   ]
  },
  {
   "cell_type": "code",
   "execution_count": 131,
   "id": "a0891637",
   "metadata": {},
   "outputs": [],
   "source": []
  },
  {
   "cell_type": "code",
   "execution_count": 132,
   "id": "c086a6b5",
   "metadata": {},
   "outputs": [],
   "source": []
  },
  {
   "cell_type": "code",
   "execution_count": null,
   "id": "dcc42f74",
   "metadata": {},
   "outputs": [],
   "source": []
  }
 ],
 "metadata": {
  "kernelspec": {
   "display_name": "Python 3 (ipykernel)",
   "language": "python",
   "name": "python3"
  },
  "language_info": {
   "codemirror_mode": {
    "name": "ipython",
    "version": 3
   },
   "file_extension": ".py",
   "mimetype": "text/x-python",
   "name": "python",
   "nbconvert_exporter": "python",
   "pygments_lexer": "ipython3",
   "version": "3.8.0"
  }
 },
 "nbformat": 4,
 "nbformat_minor": 5
}
